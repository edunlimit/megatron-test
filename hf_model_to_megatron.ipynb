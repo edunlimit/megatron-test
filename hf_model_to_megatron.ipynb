{
 "cells": [
  {
   "cell_type": "code",
   "execution_count": 1,
   "id": "2ee06ec0-4be1-477e-ba85-c5379e41ac0d",
   "metadata": {},
   "outputs": [
    {
     "name": "stderr",
     "output_type": "stream",
     "text": [
      "/opt/anaconda3/envs/genai/lib/python3.12/site-packages/tqdm/auto.py:21: TqdmWarning: IProgress not found. Please update jupyter and ipywidgets. See https://ipywidgets.readthedocs.io/en/stable/user_install.html\n",
      "  from .autonotebook import tqdm as notebook_tqdm\n",
      "Fetching 14 files: 100%|███████████████████████| 14/14 [33:00<00:00, 141.50s/it]"
     ]
    },
    {
     "name": "stdout",
     "output_type": "stream",
     "text": [
      "Model downloaded to: ./qwen2.5-7B\n"
     ]
    },
    {
     "name": "stderr",
     "output_type": "stream",
     "text": [
      "\n"
     ]
    }
   ],
   "source": [
    "from huggingface_hub import snapshot_download\n",
    "\n",
    "# Set the model ID from Hugging Face\n",
    "model_id = \"Qwen/Qwen2.5-7B\"\n",
    "\n",
    "# Define the local save directory\n",
    "save_dir = \"./qwen2.5-7B\"\n",
    "\n",
    "# Download the model\n",
    "snapshot_download(repo_id=model_id, local_dir=save_dir, ignore_patterns=[\"*.bin.index.json\"])\n",
    "\n",
    "print(f\"Model downloaded to: {save_dir}\")\n"
   ]
  },
  {
   "cell_type": "code",
   "execution_count": null,
   "id": "809e95fd-44cf-4324-b17a-8fbcecbf93a1",
   "metadata": {},
   "outputs": [],
   "source": [
    "\n",
    "bash toolkits/model_checkpoints_convertor/qwen/hf2mcore_qwen2.5_convertor.sh \\\n",
    "7B \\\n",
    "/qwen2.5-7B \\\n",
    "/Qwen2.5-7B-hf-to-mcore-te-tp1-pp1  \\\n",
    "1  \\\n",
    "1  \\\n",
    "fp16 \\\n",
    "true \\\n",
    "false "
   ]
  }
 ],
 "metadata": {
  "kernelspec": {
   "display_name": "Python 3 (ipykernel)",
   "language": "python",
   "name": "python3"
  },
  "language_info": {
   "codemirror_mode": {
    "name": "ipython",
    "version": 3
   },
   "file_extension": ".py",
   "mimetype": "text/x-python",
   "name": "python",
   "nbconvert_exporter": "python",
   "pygments_lexer": "ipython3",
   "version": "3.12.9"
  }
 },
 "nbformat": 4,
 "nbformat_minor": 5
}
